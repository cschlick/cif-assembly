{
 "cells": [
  {
   "cell_type": "code",
   "execution_count": null,
   "metadata": {},
   "outputs": [],
   "source": [
    "from mmtbx.ncs.ncs import ncs\n",
    "from phenix.programs import map_symmetry as map_symmetry_program\n",
    "from cctbx.maptbx.segment_and_split_map import run_get_ncs_from_map\n",
    "from iotbx import phil\n",
    "from iotbx.data_manager import DataManager\n"
   ]
  },
  {
   "cell_type": "code",
   "execution_count": null,
   "metadata": {},
   "outputs": [],
   "source": [
    "# initialize data manager\n",
    "dm = DataManager()"
   ]
  },
  {
   "cell_type": "code",
   "execution_count": null,
   "metadata": {},
   "outputs": [],
   "source": [
    "# file IO\n",
    "\n",
    "# this map has origin at (0,0,0)\n",
    "dm.process_model_file(\"../6ui6_fit_in_corner_map.pdb\")\n",
    "dm.process_real_map_file(\"../emd_20669_corner_zero.map\")\n",
    "\n",
    "# this map has origin at data.all()/2\n",
    "# dm.process_model_file(\"../6ui6.pdb\")\n",
    "# dm.process_real_map_file(\"../emd_20669.map\")"
   ]
  },
  {
   "cell_type": "code",
   "execution_count": null,
   "metadata": {},
   "outputs": [],
   "source": [
    "# Run Tom's map_symmetry tool\n",
    "mm = dm.get_real_map()\n",
    "params = phil.parse(map_symmetry_program.Program.master_phil_str).extract()\n",
    "ncs_obj, cc_avg, score = run_get_ncs_from_map(params=params,\n",
    "        map_data=mm.map_data(),\n",
    "        crystal_symmetry=mm.crystal_symmetry(),\n",
    "        ncs_obj=None)"
   ]
  },
  {
   "cell_type": "code",
   "execution_count": null,
   "metadata": {},
   "outputs": [],
   "source": [
    "# get ncs_group object from the map_symmetry output\n",
    "ncs_groups = ncs_obj.ncs_groups()\n",
    "assert(len(ncs_groups)==1)\n",
    "ncs_group = ncs_groups[0]\n",
    "\n",
    "# or if reading from file...\n",
    "# ncs_object = ncs()\n",
    "# ncs_object.read_ncs(\"../MapSymmetry_4/symmetry_from_map.ncs_spec\")"
   ]
  },
  {
   "cell_type": "code",
   "execution_count": null,
   "metadata": {},
   "outputs": [],
   "source": [
    "# this already exists\n",
    "print(ncs_group.format_for_biomt())"
   ]
  },
  {
   "cell_type": "code",
   "execution_count": null,
   "metadata": {},
   "outputs": [],
   "source": [
    "# Build cif model from ncs_obj\n",
    "\n",
    "from iotbx import cif\n",
    "\n",
    "model = dm.get_model()\n",
    "h = model.get_hierarchy()\n",
    "chains = [c.id for c in h.chains()]\n",
    "\n",
    "n_oper = ncs_group.n_ncs_oper()\n",
    "\n",
    "# start cif building\n",
    "builder = cif.builders.cif_model_builder()\n",
    "builder.add_data_block(\"assembly_information\")\n",
    "\n",
    "# add pdbx_struct_assembly loop\n",
    "headers = ['_pdbx_struct_assembly.id',\n",
    " '_pdbx_struct_assembly.details',\n",
    " '_pdbx_struct_assembly.method_details',\n",
    " '_pdbx_struct_assembly.oligomeric_details',\n",
    " '_pdbx_struct_assembly.oligomeric_count']\n",
    "columns = [[\"1\"],[\"Symmetry assembly \"+ncs_obj.get_ncs_name()],[\"?\"],[\"?\"],[\"?\"]]\n",
    "builder.add_loop(headers,columns)\n",
    "\n",
    "# add pdbx_struct_assembly_gen loop\n",
    "headers = ['_pdbx_struct_assembly_gen.assembly_id',\n",
    " '_pdbx_struct_assembly_gen.oper_expression',\n",
    " '_pdbx_struct_assembly_gen.asym_id_list']\n",
    "columns = [[\"1\"],[\"(1-\"+str(n_oper)+\")\"],[','.join(chains)]]\n",
    "builder.add_loop(headers,columns)\n",
    "\n",
    "# add pdbx_struct_oper_list loop\n",
    "headers = ['_pdbx_struct_oper_list.id',\n",
    " '_pdbx_struct_oper_list.type',\n",
    " '_pdbx_struct_oper_list.name',\n",
    " '_pdbx_struct_oper_list.symmetry_operation',\n",
    " '_pdbx_struct_oper_list.matrix[1][1]',\n",
    " '_pdbx_struct_oper_list.matrix[1][2]',\n",
    " '_pdbx_struct_oper_list.matrix[1][3]',\n",
    " '_pdbx_struct_oper_list.vector[1]',\n",
    " '_pdbx_struct_oper_list.matrix[2][1]',\n",
    " '_pdbx_struct_oper_list.matrix[2][2]',\n",
    " '_pdbx_struct_oper_list.matrix[2][3]',\n",
    " '_pdbx_struct_oper_list.vector[2]',\n",
    " '_pdbx_struct_oper_list.matrix[3][1]',\n",
    " '_pdbx_struct_oper_list.matrix[3][2]',\n",
    " '_pdbx_struct_oper_list.matrix[3][3]',\n",
    " '_pdbx_struct_oper_list.vector[3]']\n",
    "\n",
    "\n",
    "_id = list(range(1,n_oper+1))\n",
    "_type = ['point symmetry operation' for i in range(n_oper)]\n",
    "_name = ['?' for i in range(n_oper)]\n",
    "_symmetry_operation = ['?' for i in range(n_oper)]\n",
    "\n",
    "info_columns = [_id,_type,_name,_symmetry_operation]\n",
    "\n",
    "rotations  = [[r[i] for r in ncs_group.rota_matrices_inv()] for i in range(9)]\n",
    "translations = [[t[i] for t in ncs_group.translations_orth_inv()] for i in range(3)]\n",
    "#translations = [[0.0 for t in ncs_group.translations_orth_inv()] for i in range(3)] # debug\n",
    "numeric_columns = [rotations[0],rotations[1],rotations[2],translations[0],\n",
    "                   rotations[3],rotations[4],rotations[5],translations[1],\n",
    "                   rotations[6],rotations[7],rotations[8],translations[2]]\n",
    "\n",
    "columns = info_columns+numeric_columns\n",
    "builder.add_loop(headers,columns)\n"
   ]
  },
  {
   "cell_type": "code",
   "execution_count": null,
   "metadata": {},
   "outputs": [],
   "source": [
    "# show cif model model\n",
    "builder.model().show()"
   ]
  },
  {
   "cell_type": "code",
   "execution_count": null,
   "metadata": {},
   "outputs": [],
   "source": [
    "model.model_as_mmcif()"
   ]
  },
  {
   "cell_type": "code",
   "execution_count": null,
   "metadata": {},
   "outputs": [],
   "source": []
  },
  {
   "cell_type": "code",
   "execution_count": null,
   "metadata": {},
   "outputs": [],
   "source": []
  },
  {
   "cell_type": "code",
   "execution_count": null,
   "metadata": {},
   "outputs": [],
   "source": [
    "# Combine cif string with mmcif string. \n",
    "\n",
    "from StringIO import StringIO\n",
    "output = StringIO()\n",
    "cif_model = builder.model()\n",
    "cif_model = cif_model[cif_model.keys()[0]]\n",
    "cif_model.show(indent=\"\",out=output)\n",
    "filestring = \"data_default\\n\"+output.getvalue().replace(\"data_information\\n\",\"\")+dm.get_model().model_as_mmcif().replace(\"data_default\\n\",\"\")"
   ]
  },
  {
   "cell_type": "code",
   "execution_count": null,
   "metadata": {},
   "outputs": [],
   "source": [
    "dm.write_model_file(filestring,filename=\"../6ui6_processed.cif\",overwrite=True)"
   ]
  }
 ],
 "metadata": {
  "kernelspec": {
   "display_name": "phenix",
   "language": "python",
   "name": "phenix"
  },
  "language_info": {
   "codemirror_mode": {
    "name": "ipython",
    "version": 2
   },
   "file_extension": ".py",
   "mimetype": "text/x-python",
   "name": "python",
   "nbconvert_exporter": "python",
   "pygments_lexer": "ipython2",
   "version": "2.7.15"
  }
 },
 "nbformat": 4,
 "nbformat_minor": 4
}
